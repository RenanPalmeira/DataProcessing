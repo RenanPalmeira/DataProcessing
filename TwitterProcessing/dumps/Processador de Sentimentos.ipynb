{
 "cells": [
  {
   "cell_type": "markdown",
   "metadata": {},
   "source": [
    "# Analisador de Sentimentos dos Tweets"
   ]
  },
  {
   "cell_type": "markdown",
   "metadata": {},
   "source": [
    "Projeto disponível em: http://wp-a.co/u/TwitterProcessing"
   ]
  },
  {
   "cell_type": "code",
   "execution_count": 51,
   "metadata": {
    "collapsed": false
   },
   "outputs": [],
   "source": [
    "from processor import ProcessadorDeSentimentos"
   ]
  },
  {
   "cell_type": "code",
   "execution_count": 52,
   "metadata": {
    "collapsed": true
   },
   "outputs": [],
   "source": [
    "afirmNegativas = [('Vivemos em um país lixo!', \"negativo\"),('O país é horrível!', \"negativo\"),('A Dilma é uma vadia', 'negativo'), ('A Dilma é uma filha da puta', 'negativo'), ('A Dilma é uma corna', 'negativo'), ('A Dilma é uma corrupta', 'negativo'), ('A Dilma é uma petralha', 'negativo'),('O impeachment é uma coisa linda', 'negativo'),('O impeachment vai salvar a nós', 'negativo'),\n",
    "('O impeachment melhorará a situação', 'negativo'),('O impeachment vai fazer a gente crescer', 'negativo'),('O Lula é um corrupto', 'negativo'),('O Lula é maldito', 'negativo'),('O Lula é sem vergonha', 'negativo'),('O Lula roubou para cacete', 'negativo'),('O Lula não tem um dedo', 'negativo'),('O Lula é um infeliz', 'negativo'),('O PT é corrupto', 'negativo'),('O juiz Sergio Moro está complicando as situações', 'negativo'),\n",
    "('O PT é ladrão', 'negativo'),('O PT é problemático', 'negativo'),('O PT é cheio de problemas', 'negativo'),('O PT é zuado', 'negativo'),('A crise é por causa do PT', 'negativo'),('A crise é uma coisa que ninguém entende', 'negativo'),('Os comunistas estão chegando no Brasil', 'negativo'),('Os cubanos estão chegando no Brasil', 'negativo'),('Os coxinhas vão derrubar os comunistas', 'negativo')]"
   ]
  },
  {
   "cell_type": "code",
   "execution_count": 53,
   "metadata": {
    "collapsed": false
   },
   "outputs": [],
   "source": [
    "afirmPositivas = [('Impeachment não vai tirar o Cunha e nenhum deputado!', \"positiva\"),('Impeachment não levantará a econômia!', \"positiva\"),('Impeachment não ajudará a gente!', \"positiva\"),('Vivemos em um país ótimo!', \"positiva\"),('O país é bom!', \"positiva\"),('A Dilma é uma boa presidenta', 'positiva'),('A Dilma não é ladra', 'positiva'),('A Dilma não cometeu nenhum crime', 'positiva'),('A Dilma não é corrupta', 'positiva'),\n",
    "('O Lula salvou os pobres', 'positiva'),('O governo ajudou aos pobres', 'positiva'),('O Lula não é corrupto', 'positiva'),('O Lula ajudou a todos', 'positiva'),('Tivemos ajuda do PT nos últimos anos', 'positiva'),('A TV manipula as pessoas contra o governo', 'positiva'),('o Governo ajudou a todos', 'positiva'),('O governo não cometeu nenhum crime', 'positiva'),('Os criminosos não estão no governo', 'positiva'),('Como podem acusar a dilma sem nem terem provas?', 'positiva'),\n",
    "('O PT criou o bolsa família, deixe eles no poder', 'positiva'),('Sou governista e ponto, sou feliz assim', 'positiva'),('O governo não é corrupto', 'positiva'),('Não temos nenhuma prova para mostrar que nossa presidenta cometeu crime', 'positiva'),('O esquema da Petrobrás é uma farça', 'positiva'),('O impeachment é golpe', 'positiva'),\n",
    "('A crise foi criada pela mídia', 'positiva'), ('A mídia influência a cabeça', 'positiva')]"
   ]
  },
  {
   "cell_type": "code",
   "execution_count": 54,
   "metadata": {
    "collapsed": true
   },
   "outputs": [],
   "source": [
    "kitamostral = ProcessadorDeSentimentos.tokenize(afirmNegativas + afirmPositivas)"
   ]
  },
  {
   "cell_type": "code",
   "execution_count": 55,
   "metadata": {
    "collapsed": false
   },
   "outputs": [],
   "source": [
    "processor = ProcessadorDeSentimentos(kitamostral)"
   ]
  },
  {
   "cell_type": "code",
   "execution_count": 56,
   "metadata": {
    "collapsed": false
   },
   "outputs": [],
   "source": [
    "valorPositivas = 0\n",
    "Positivas = []\n",
    "valorNegativas = 0\n",
    "Negativas = []"
   ]
  },
  {
   "cell_type": "code",
   "execution_count": 57,
   "metadata": {
    "collapsed": true
   },
   "outputs": [],
   "source": [
    "for linha in open(\"dbs/saida1-sl.txt\"):\n",
    "    if processor.classifica(linha) is \"positiva\":\n",
    "        valorPositivas = valorPositivas + 1\n",
    "        Positivas.append(linha)\n",
    "    else:\n",
    "        valorNegativas = valorNegativas + 1\n",
    "        Negativas.append(linha)"
   ]
  },
  {
   "cell_type": "code",
   "execution_count": 47,
   "metadata": {
    "collapsed": false
   },
   "outputs": [
    {
     "name": "stdout",
     "output_type": "stream",
     "text": [
      "896\n"
     ]
    }
   ],
   "source": [
    "print(valorPositivas)"
   ]
  },
  {
   "cell_type": "markdown",
   "metadata": {},
   "source": [
    "## Gerando os Gráficos - (Trabalhar ainda)"
   ]
  },
  {
   "cell_type": "code",
   "execution_count": null,
   "metadata": {
    "collapsed": true
   },
   "outputs": [],
   "source": []
  }
 ],
 "metadata": {
  "kernelspec": {
   "display_name": "Python 3",
   "language": "python",
   "name": "python3"
  },
  "language_info": {
   "codemirror_mode": {
    "name": "ipython",
    "version": 3
   },
   "file_extension": ".py",
   "mimetype": "text/x-python",
   "name": "python",
   "nbconvert_exporter": "python",
   "pygments_lexer": "ipython3",
   "version": "3.4.3"
  }
 },
 "nbformat": 4,
 "nbformat_minor": 0
}
