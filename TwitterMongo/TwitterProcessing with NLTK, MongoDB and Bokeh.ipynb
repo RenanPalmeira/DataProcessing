{
 "cells": [
  {
   "cell_type": "code",
   "execution_count": 1,
   "metadata": {
    "collapsed": false
   },
   "outputs": [
    {
     "data": {
      "text/html": [
       "\n",
       "    <div class=\"bk-banner\">\n",
       "        <a href=\"http://bokeh.pydata.org\" target=\"_blank\" class=\"bk-logo bk-logo-small bk-logo-notebook\"></a>\n",
       "        <span id=\"9f1532b2-694a-4dd4-9918-8bf5c54f5fe4\">Loading BokehJS ...</span>\n",
       "    </div>"
      ]
     },
     "metadata": {},
     "output_type": "display_data"
    },
    {
     "data": {
      "application/javascript": [
       "\n",
       "(function(global) {\n",
       "  function now() {\n",
       "    return new Date();\n",
       "  }\n",
       "\n",
       "  if (typeof (window._bokeh_onload_callbacks) === \"undefined\") {\n",
       "    window._bokeh_onload_callbacks = [];\n",
       "  }\n",
       "\n",
       "  function run_callbacks() {\n",
       "    window._bokeh_onload_callbacks.forEach(function(callback) { callback() });\n",
       "    delete window._bokeh_onload_callbacks\n",
       "    console.info(\"Bokeh: all callbacks have finished\");\n",
       "  }\n",
       "\n",
       "  function load_libs(js_urls, callback) {\n",
       "    window._bokeh_onload_callbacks.push(callback);\n",
       "    if (window._bokeh_is_loading > 0) {\n",
       "      console.log(\"Bokeh: BokehJS is being loaded, scheduling callback at\", now());\n",
       "      return null;\n",
       "    }\n",
       "    if (js_urls == null || js_urls.length === 0) {\n",
       "      run_callbacks();\n",
       "      return null;\n",
       "    }\n",
       "    console.log(\"Bokeh: BokehJS not loaded, scheduling load and callback at\", now());\n",
       "    window._bokeh_is_loading = js_urls.length;\n",
       "    for (var i = 0; i < js_urls.length; i++) {\n",
       "      var url = js_urls[i];\n",
       "      var s = document.createElement('script');\n",
       "      s.src = url;\n",
       "      s.async = false;\n",
       "      s.onreadystatechange = s.onload = function() {\n",
       "        window._bokeh_is_loading--;\n",
       "        if (window._bokeh_is_loading === 0) {\n",
       "          console.log(\"Bokeh: all BokehJS libraries loaded\");\n",
       "          run_callbacks()\n",
       "        }\n",
       "      };\n",
       "      s.onerror = function() {\n",
       "        console.warn(\"failed to load library \" + url);\n",
       "      };\n",
       "      console.log(\"Bokeh: injecting script tag for BokehJS library: \", url);\n",
       "      document.getElementsByTagName(\"head\")[0].appendChild(s);\n",
       "    }\n",
       "  };\n",
       "\n",
       "  var js_urls = ['https://cdn.pydata.org/bokeh/release/bokeh-0.11.1.min.js', 'https://cdn.pydata.org/bokeh/release/bokeh-widgets-0.11.1.min.js', 'https://cdn.pydata.org/bokeh/release/bokeh-compiler-0.11.1.min.js'];\n",
       "\n",
       "  var inline_js = [\n",
       "    function(Bokeh) {\n",
       "      Bokeh.set_log_level(\"info\");\n",
       "    },\n",
       "    \n",
       "    function(Bokeh) {\n",
       "      Bokeh.$(\"#9f1532b2-694a-4dd4-9918-8bf5c54f5fe4\").text(\"BokehJS successfully loaded\");\n",
       "    },\n",
       "    function(Bokeh) {\n",
       "      console.log(\"Bokeh: injecting CSS: https://cdn.pydata.org/bokeh/release/bokeh-0.11.1.min.css\");\n",
       "      Bokeh.embed.inject_css(\"https://cdn.pydata.org/bokeh/release/bokeh-0.11.1.min.css\");\n",
       "      console.log(\"Bokeh: injecting CSS: https://cdn.pydata.org/bokeh/release/bokeh-widgets-0.11.1.min.css\");\n",
       "      Bokeh.embed.inject_css(\"https://cdn.pydata.org/bokeh/release/bokeh-widgets-0.11.1.min.css\");\n",
       "    }\n",
       "  ];\n",
       "\n",
       "  function run_inline_js() {\n",
       "    for (var i = 0; i < inline_js.length; i++) {\n",
       "      inline_js[i](window.Bokeh);\n",
       "    }\n",
       "  }\n",
       "\n",
       "  if (window._bokeh_is_loading === 0) {\n",
       "    console.log(\"Bokeh: BokehJS loaded, going straight to plotting\");\n",
       "    run_inline_js();\n",
       "  } else {\n",
       "    load_libs(js_urls, function() {\n",
       "      console.log(\"Bokeh: BokehJS plotting callback run at\", now());\n",
       "      run_inline_js();\n",
       "    });\n",
       "  }\n",
       "}(this));"
      ]
     },
     "metadata": {},
     "output_type": "display_data"
    }
   ],
   "source": [
    "\"\"\"\n",
    "Reference in http://goo.gl/wjHNtm\n",
    "Dump file MongoDB in http://pastebin.com/y3dALXYs\n",
    "For import dump file https://goo.gl/ae0xVB\n",
    "\"\"\"\n",
    "from __future__ import with_statement\n",
    "\n",
    "from bokeh.charts import *\n",
    "from pymongo import MongoClient # About MongoDB https://goo.gl/PvVRcd\n",
    "from bokeh.io import output_notebook, show\n",
    "import pandas as pd\n",
    "from processor import TwitterProcessing\n",
    "\n",
    "output_notebook()"
   ]
  },
  {
   "cell_type": "code",
   "execution_count": 2,
   "metadata": {
    "collapsed": false
   },
   "outputs": [],
   "source": [
    "# Default in localhost \n",
    "client = MongoClient() \n",
    "db = client.twitter"
   ]
  },
  {
   "cell_type": "code",
   "execution_count": 3,
   "metadata": {
    "collapsed": true
   },
   "outputs": [],
   "source": [
    "# For balance, list length and this tag/version is 90\n",
    "positivewords = [item['word'] for item in db.positivewords.find()]\n",
    "negativewords = [item['word'] for item in db.negativewords.find()]\n",
    "neutralwords = [item['word'] for item in db.neutralwords.find()]"
   ]
  },
  {
   "cell_type": "code",
   "execution_count": 4,
   "metadata": {
    "collapsed": true
   },
   "outputs": [],
   "source": [
    "word_features = [\n",
    "    (positivewords, 'positiva'),\n",
    "    (negativewords, 'negativa'),\n",
    "    (neutralwords, 'neutra'),\n",
    "]\n",
    "# Need just you not have words in one list()\n",
    "# samples = TwitterProcessing.tokenize(pos_tweets + neg_tweets)"
   ]
  },
  {
   "cell_type": "code",
   "execution_count": 5,
   "metadata": {
    "collapsed": true
   },
   "outputs": [],
   "source": [
    "processor = TwitterProcessing(word_features)"
   ]
  },
  {
   "cell_type": "code",
   "execution_count": 6,
   "metadata": {
    "collapsed": false
   },
   "outputs": [
    {
     "data": {
      "text/plain": [
       "'negativa'"
      ]
     },
     "execution_count": 6,
     "metadata": {},
     "output_type": "execute_result"
    }
   ],
   "source": [
    "processor.classify('tenho ódio de você')"
   ]
  },
  {
   "cell_type": "code",
   "execution_count": 7,
   "metadata": {
    "collapsed": false
   },
   "outputs": [
    {
     "data": {
      "text/plain": [
       "'positiva'"
      ]
     },
     "execution_count": 7,
     "metadata": {},
     "output_type": "execute_result"
    }
   ],
   "source": [
    "processor.classify('tu és maravilhosa')"
   ]
  },
  {
   "cell_type": "code",
   "execution_count": 8,
   "metadata": {
    "collapsed": false
   },
   "outputs": [],
   "source": [
    "# Get this dump https://goo.gl/iSfzfw\n",
    "with open(\"dumps/saida1-sl.txt\") as f:\n",
    "    lines = f.readlines()"
   ]
  },
  {
   "cell_type": "code",
   "execution_count": 9,
   "metadata": {
    "collapsed": false
   },
   "outputs": [],
   "source": [
    "results = {}\n",
    "for line in lines:\n",
    "    classify = processor.classify(line)\n",
    "    if classify in results:\n",
    "        results[classify] += 1\n",
    "    else:\n",
    "        results[classify] = 1"
   ]
  },
  {
   "cell_type": "code",
   "execution_count": 10,
   "metadata": {
    "collapsed": false
   },
   "outputs": [],
   "source": [
    "results = {\n",
    "    'values': results.values(),\n",
    "    'names': results.keys()\n",
    "}"
   ]
  },
  {
   "cell_type": "code",
   "execution_count": 11,
   "metadata": {
    "collapsed": false
   },
   "outputs": [],
   "source": [
    "df = pd.DataFrame(results)"
   ]
  },
  {
   "cell_type": "code",
   "execution_count": 12,
   "metadata": {
    "collapsed": false
   },
   "outputs": [
    {
     "data": {
      "text/plain": [
       "4488"
      ]
     },
     "execution_count": 12,
     "metadata": {},
     "output_type": "execute_result"
    }
   ],
   "source": [
    "df.sum(axis=0)[1]"
   ]
  },
  {
   "cell_type": "code",
   "execution_count": 13,
   "metadata": {
    "collapsed": false
   },
   "outputs": [],
   "source": [
    "p = Bar(df, 'names', values='values',  agg='count', title=\"Total de frases\", bar_width=0.2,  color=\"blue\")"
   ]
  },
  {
   "cell_type": "code",
   "execution_count": 14,
   "metadata": {
    "collapsed": false
   },
   "outputs": [
    {
     "data": {
      "text/html": [
       "\n",
       "\n",
       "    <div class=\"plotdiv\" id=\"b757544d-9b49-4b5c-bb92-a9c4fb5bb68b\"></div>\n",
       "<script type=\"text/javascript\">\n",
       "  \n",
       "  (function(global) {\n",
       "    function now() {\n",
       "      return new Date();\n",
       "    }\n",
       "  \n",
       "    if (typeof (window._bokeh_onload_callbacks) === \"undefined\") {\n",
       "      window._bokeh_onload_callbacks = [];\n",
       "    }\n",
       "  \n",
       "    function run_callbacks() {\n",
       "      window._bokeh_onload_callbacks.forEach(function(callback) { callback() });\n",
       "      delete window._bokeh_onload_callbacks\n",
       "      console.info(\"Bokeh: all callbacks have finished\");\n",
       "    }\n",
       "  \n",
       "    function load_libs(js_urls, callback) {\n",
       "      window._bokeh_onload_callbacks.push(callback);\n",
       "      if (window._bokeh_is_loading > 0) {\n",
       "        console.log(\"Bokeh: BokehJS is being loaded, scheduling callback at\", now());\n",
       "        return null;\n",
       "      }\n",
       "      if (js_urls == null || js_urls.length === 0) {\n",
       "        run_callbacks();\n",
       "        return null;\n",
       "      }\n",
       "      console.log(\"Bokeh: BokehJS not loaded, scheduling load and callback at\", now());\n",
       "      window._bokeh_is_loading = js_urls.length;\n",
       "      for (var i = 0; i < js_urls.length; i++) {\n",
       "        var url = js_urls[i];\n",
       "        var s = document.createElement('script');\n",
       "        s.src = url;\n",
       "        s.async = false;\n",
       "        s.onreadystatechange = s.onload = function() {\n",
       "          window._bokeh_is_loading--;\n",
       "          if (window._bokeh_is_loading === 0) {\n",
       "            console.log(\"Bokeh: all BokehJS libraries loaded\");\n",
       "            run_callbacks()\n",
       "          }\n",
       "        };\n",
       "        s.onerror = function() {\n",
       "          console.warn(\"failed to load library \" + url);\n",
       "        };\n",
       "        console.log(\"Bokeh: injecting script tag for BokehJS library: \", url);\n",
       "        document.getElementsByTagName(\"head\")[0].appendChild(s);\n",
       "      }\n",
       "    };var element = document.getElementById(\"b757544d-9b49-4b5c-bb92-a9c4fb5bb68b\");\n",
       "    if (element == null) {\n",
       "      console.log(\"Bokeh: ERROR: autoload.js configured with elementid 'b757544d-9b49-4b5c-bb92-a9c4fb5bb68b' but no matching script tag was found. \")\n",
       "      return false;\n",
       "    }\n",
       "  \n",
       "    var js_urls = [];\n",
       "  \n",
       "    var inline_js = [\n",
       "      function(Bokeh) {\n",
       "        Bokeh.$(function() {\n",
       "            var docs_json = {\"f12e370a-1089-42ae-964e-d7ce70cfa387\":{\"roots\":{\"references\":[{\"attributes\":{},\"id\":\"3c77f974-ab5c-4c17-b826-0c0a2992877f\",\"type\":\"CategoricalTickFormatter\"},{\"attributes\":{\"data_source\":{\"id\":\"2a38db54-d4fe-4729-a61c-fdb3673bd758\",\"type\":\"ColumnDataSource\"},\"glyph\":{\"id\":\"2784cef2-6c17-4775-bd0b-8492ad218d55\",\"type\":\"Rect\"},\"hover_glyph\":null,\"nonselection_glyph\":null,\"selection_glyph\":null},\"id\":\"310eb60e-d1ff-400f-a806-29b287097529\",\"type\":\"GlyphRenderer\"},{\"attributes\":{\"callback\":null,\"end\":3273.9},\"id\":\"46ff709b-95fd-4a18-9a77-5195b2a3f3a1\",\"type\":\"Range1d\"},{\"attributes\":{\"axis_label\":\"Count( Values )\",\"formatter\":{\"id\":\"a7d417ef-3fb4-45e9-ae11-bc768b0657f5\",\"type\":\"BasicTickFormatter\"},\"plot\":{\"id\":\"74e5df73-2168-4768-993e-ea3a30220dc7\",\"subtype\":\"Chart\",\"type\":\"Plot\"},\"ticker\":{\"id\":\"b89df8e3-d65c-43f8-bb57-d9340f7fa6ed\",\"type\":\"BasicTicker\"}},\"id\":\"b3c52405-2eed-410d-8aa7-ec6bb453c395\",\"type\":\"LinearAxis\"},{\"attributes\":{\"axis_label\":\"Names\",\"formatter\":{\"id\":\"3c77f974-ab5c-4c17-b826-0c0a2992877f\",\"type\":\"CategoricalTickFormatter\"},\"major_label_orientation\":0.7853981633974483,\"plot\":{\"id\":\"74e5df73-2168-4768-993e-ea3a30220dc7\",\"subtype\":\"Chart\",\"type\":\"Plot\"},\"ticker\":{\"id\":\"9be5195e-63b9-4646-80af-814e34290b91\",\"type\":\"CategoricalTicker\"}},\"id\":\"db1fd7af-975c-46fd-a094-0b0cd56b9172\",\"type\":\"CategoricalAxis\"},{\"attributes\":{\"callback\":null,\"column_names\":[\"line_color\",\"line_alpha\",\"color\",\"fill_alpha\",\"height\",\"width\",\"y\",\"x\"],\"data\":{\"chart_index\":[{\"names\":\"neutra\"}],\"color\":[\"blue\"],\"fill_alpha\":[0.8],\"height\":[602.0],\"line_alpha\":[1.0],\"line_color\":[\"white\"],\"names\":[\"neutra\"],\"width\":[0.2],\"x\":[\"neutra\"],\"y\":[301.0]}},\"id\":\"2a38db54-d4fe-4729-a61c-fdb3673bd758\",\"type\":\"ColumnDataSource\"},{\"attributes\":{\"callback\":null,\"factors\":[\"negativa\",\"neutra\",\"positiva\"]},\"id\":\"6314ae9a-e898-462f-81cd-977cac42e860\",\"type\":\"FactorRange\"},{\"attributes\":{\"plot\":{\"id\":\"74e5df73-2168-4768-993e-ea3a30220dc7\",\"subtype\":\"Chart\",\"type\":\"Plot\"}},\"id\":\"4db87896-7282-47ea-beee-9f6827fd255f\",\"type\":\"PanTool\"},{\"attributes\":{\"plot\":{\"id\":\"74e5df73-2168-4768-993e-ea3a30220dc7\",\"subtype\":\"Chart\",\"type\":\"Plot\"}},\"id\":\"592bd873-9860-4543-ba81-98dab3fe4390\",\"type\":\"ResizeTool\"},{\"attributes\":{\"fill_alpha\":{\"field\":\"fill_alpha\"},\"fill_color\":{\"field\":\"color\"},\"height\":{\"field\":\"height\",\"units\":\"data\"},\"line_color\":{\"field\":\"line_color\"},\"width\":{\"field\":\"width\",\"units\":\"data\"},\"x\":{\"field\":\"x\"},\"y\":{\"field\":\"y\"}},\"id\":\"d53b5868-1232-45d1-aca4-9d5b9e72b398\",\"type\":\"Rect\"},{\"attributes\":{\"plot\":{\"id\":\"74e5df73-2168-4768-993e-ea3a30220dc7\",\"subtype\":\"Chart\",\"type\":\"Plot\"}},\"id\":\"9139e88a-d96d-402e-9060-db36903060e0\",\"type\":\"PreviewSaveTool\"},{\"attributes\":{},\"id\":\"9be5195e-63b9-4646-80af-814e34290b91\",\"type\":\"CategoricalTicker\"},{\"attributes\":{\"callback\":null,\"column_names\":[\"line_color\",\"line_alpha\",\"color\",\"fill_alpha\",\"height\",\"width\",\"y\",\"x\"],\"data\":{\"chart_index\":[{\"names\":\"negativa\"}],\"color\":[\"blue\"],\"fill_alpha\":[0.8],\"height\":[768.0],\"line_alpha\":[1.0],\"line_color\":[\"white\"],\"names\":[\"negativa\"],\"width\":[0.2],\"x\":[\"negativa\"],\"y\":[384.0]}},\"id\":\"f2951272-c3b8-4264-9e4b-4f8fb2508a9c\",\"type\":\"ColumnDataSource\"},{\"attributes\":{\"fill_alpha\":{\"field\":\"fill_alpha\"},\"fill_color\":{\"field\":\"color\"},\"height\":{\"field\":\"height\",\"units\":\"data\"},\"line_color\":{\"field\":\"line_color\"},\"width\":{\"field\":\"width\",\"units\":\"data\"},\"x\":{\"field\":\"x\"},\"y\":{\"field\":\"y\"}},\"id\":\"5023ba5f-6c09-471f-b4e0-72cbc65d6d2d\",\"type\":\"Rect\"},{\"attributes\":{\"overlay\":{\"id\":\"26cdd6e5-9774-4e8e-a691-d78c39d51389\",\"type\":\"BoxAnnotation\"},\"plot\":{\"id\":\"74e5df73-2168-4768-993e-ea3a30220dc7\",\"subtype\":\"Chart\",\"type\":\"Plot\"}},\"id\":\"d162ace5-b6cf-4619-b7d4-adfa5aafa2ba\",\"type\":\"BoxZoomTool\"},{\"attributes\":{\"data_source\":{\"id\":\"6cab6fbf-4e6f-4c2a-9a95-6ce580180573\",\"type\":\"ColumnDataSource\"},\"glyph\":{\"id\":\"5023ba5f-6c09-471f-b4e0-72cbc65d6d2d\",\"type\":\"Rect\"},\"hover_glyph\":null,\"nonselection_glyph\":null,\"selection_glyph\":null},\"id\":\"53c17bab-5e90-43f9-9f84-71f691511272\",\"type\":\"GlyphRenderer\"},{\"attributes\":{\"plot\":{\"id\":\"74e5df73-2168-4768-993e-ea3a30220dc7\",\"subtype\":\"Chart\",\"type\":\"Plot\"}},\"id\":\"bf9968db-2ff9-4dbc-b9b6-a998b2625b86\",\"type\":\"HelpTool\"},{\"attributes\":{},\"id\":\"b89df8e3-d65c-43f8-bb57-d9340f7fa6ed\",\"type\":\"BasicTicker\"},{\"attributes\":{\"plot\":{\"id\":\"74e5df73-2168-4768-993e-ea3a30220dc7\",\"subtype\":\"Chart\",\"type\":\"Plot\"}},\"id\":\"5948d318-5bde-400a-a81a-d5d6ac15aaf8\",\"type\":\"WheelZoomTool\"},{\"attributes\":{\"below\":[{\"id\":\"db1fd7af-975c-46fd-a094-0b0cd56b9172\",\"type\":\"CategoricalAxis\"}],\"left\":[{\"id\":\"b3c52405-2eed-410d-8aa7-ec6bb453c395\",\"type\":\"LinearAxis\"}],\"legend\":null,\"renderers\":[{\"id\":\"26cdd6e5-9774-4e8e-a691-d78c39d51389\",\"type\":\"BoxAnnotation\"},{\"id\":\"3e1f2528-0bf4-4967-94dd-4d960084a186\",\"type\":\"GlyphRenderer\"},{\"id\":\"53c17bab-5e90-43f9-9f84-71f691511272\",\"type\":\"GlyphRenderer\"},{\"id\":\"310eb60e-d1ff-400f-a806-29b287097529\",\"type\":\"GlyphRenderer\"},{\"id\":\"db1fd7af-975c-46fd-a094-0b0cd56b9172\",\"type\":\"CategoricalAxis\"},{\"id\":\"b3c52405-2eed-410d-8aa7-ec6bb453c395\",\"type\":\"LinearAxis\"},{\"id\":\"20eb362f-f9c4-4e3f-956a-267adb0ed517\",\"type\":\"Grid\"}],\"title\":\"Total de frases\",\"title_text_font_size\":{\"value\":\"14pt\"},\"tool_events\":{\"id\":\"c260fa28-cda8-4d52-812e-51f484442bed\",\"type\":\"ToolEvents\"},\"tools\":[{\"id\":\"4db87896-7282-47ea-beee-9f6827fd255f\",\"type\":\"PanTool\"},{\"id\":\"5948d318-5bde-400a-a81a-d5d6ac15aaf8\",\"type\":\"WheelZoomTool\"},{\"id\":\"d162ace5-b6cf-4619-b7d4-adfa5aafa2ba\",\"type\":\"BoxZoomTool\"},{\"id\":\"9139e88a-d96d-402e-9060-db36903060e0\",\"type\":\"PreviewSaveTool\"},{\"id\":\"592bd873-9860-4543-ba81-98dab3fe4390\",\"type\":\"ResizeTool\"},{\"id\":\"7d000be4-5869-4b7f-b384-6aa691b80643\",\"type\":\"ResetTool\"},{\"id\":\"bf9968db-2ff9-4dbc-b9b6-a998b2625b86\",\"type\":\"HelpTool\"}],\"x_mapper_type\":\"auto\",\"x_range\":{\"id\":\"6314ae9a-e898-462f-81cd-977cac42e860\",\"type\":\"FactorRange\"},\"xgrid\":false,\"xscale\":\"auto\",\"y_mapper_type\":\"auto\",\"y_range\":{\"id\":\"46ff709b-95fd-4a18-9a77-5195b2a3f3a1\",\"type\":\"Range1d\"},\"yscale\":\"auto\"},\"id\":\"74e5df73-2168-4768-993e-ea3a30220dc7\",\"subtype\":\"Chart\",\"type\":\"Plot\"},{\"attributes\":{\"plot\":{\"id\":\"74e5df73-2168-4768-993e-ea3a30220dc7\",\"subtype\":\"Chart\",\"type\":\"Plot\"}},\"id\":\"7d000be4-5869-4b7f-b384-6aa691b80643\",\"type\":\"ResetTool\"},{\"attributes\":{\"data_source\":{\"id\":\"f2951272-c3b8-4264-9e4b-4f8fb2508a9c\",\"type\":\"ColumnDataSource\"},\"glyph\":{\"id\":\"d53b5868-1232-45d1-aca4-9d5b9e72b398\",\"type\":\"Rect\"},\"hover_glyph\":null,\"nonselection_glyph\":null,\"selection_glyph\":null},\"id\":\"3e1f2528-0bf4-4967-94dd-4d960084a186\",\"type\":\"GlyphRenderer\"},{\"attributes\":{\"fill_alpha\":{\"field\":\"fill_alpha\"},\"fill_color\":{\"field\":\"color\"},\"height\":{\"field\":\"height\",\"units\":\"data\"},\"line_color\":{\"field\":\"line_color\"},\"width\":{\"field\":\"width\",\"units\":\"data\"},\"x\":{\"field\":\"x\"},\"y\":{\"field\":\"y\"}},\"id\":\"2784cef2-6c17-4775-bd0b-8492ad218d55\",\"type\":\"Rect\"},{\"attributes\":{},\"id\":\"c260fa28-cda8-4d52-812e-51f484442bed\",\"type\":\"ToolEvents\"},{\"attributes\":{\"bottom_units\":\"screen\",\"fill_alpha\":{\"value\":0.5},\"fill_color\":{\"value\":\"lightgrey\"},\"left_units\":\"screen\",\"level\":\"overlay\",\"line_alpha\":{\"value\":1.0},\"line_color\":{\"value\":\"black\"},\"line_dash\":[4,4],\"line_width\":{\"value\":2},\"plot\":null,\"render_mode\":\"css\",\"right_units\":\"screen\",\"top_units\":\"screen\"},\"id\":\"26cdd6e5-9774-4e8e-a691-d78c39d51389\",\"type\":\"BoxAnnotation\"},{\"attributes\":{\"callback\":null,\"column_names\":[\"line_color\",\"line_alpha\",\"color\",\"fill_alpha\",\"height\",\"width\",\"y\",\"x\"],\"data\":{\"chart_index\":[{\"names\":\"positiva\"}],\"color\":[\"blue\"],\"fill_alpha\":[0.8],\"height\":[3118.0],\"line_alpha\":[1.0],\"line_color\":[\"white\"],\"names\":[\"positiva\"],\"width\":[0.2],\"x\":[\"positiva\"],\"y\":[1559.0]}},\"id\":\"6cab6fbf-4e6f-4c2a-9a95-6ce580180573\",\"type\":\"ColumnDataSource\"},{\"attributes\":{},\"id\":\"a7d417ef-3fb4-45e9-ae11-bc768b0657f5\",\"type\":\"BasicTickFormatter\"},{\"attributes\":{\"dimension\":1,\"plot\":{\"id\":\"74e5df73-2168-4768-993e-ea3a30220dc7\",\"subtype\":\"Chart\",\"type\":\"Plot\"},\"ticker\":{\"id\":\"b89df8e3-d65c-43f8-bb57-d9340f7fa6ed\",\"type\":\"BasicTicker\"}},\"id\":\"20eb362f-f9c4-4e3f-956a-267adb0ed517\",\"type\":\"Grid\"}],\"root_ids\":[\"74e5df73-2168-4768-993e-ea3a30220dc7\"]},\"title\":\"Bokeh Application\",\"version\":\"0.11.1\"}};\n",
       "            var render_items = [{\"docid\":\"f12e370a-1089-42ae-964e-d7ce70cfa387\",\"elementid\":\"b757544d-9b49-4b5c-bb92-a9c4fb5bb68b\",\"modelid\":\"74e5df73-2168-4768-993e-ea3a30220dc7\",\"notebook_comms_target\":\"ba154197-f530-4e20-b9ef-43b2ed82892e\"}];\n",
       "            \n",
       "            Bokeh.embed.embed_items(docs_json, render_items);\n",
       "        });\n",
       "      },\n",
       "      function(Bokeh) {\n",
       "      }\n",
       "    ];\n",
       "  \n",
       "    function run_inline_js() {\n",
       "      for (var i = 0; i < inline_js.length; i++) {\n",
       "        inline_js[i](window.Bokeh);\n",
       "      }\n",
       "    }\n",
       "  \n",
       "    if (window._bokeh_is_loading === 0) {\n",
       "      console.log(\"Bokeh: BokehJS loaded, going straight to plotting\");\n",
       "      run_inline_js();\n",
       "    } else {\n",
       "      load_libs(js_urls, function() {\n",
       "        console.log(\"Bokeh: BokehJS plotting callback run at\", now());\n",
       "        run_inline_js();\n",
       "      });\n",
       "    }\n",
       "  }(this));\n",
       "</script>"
      ]
     },
     "metadata": {},
     "output_type": "display_data"
    },
    {
     "data": {
      "text/html": [
       "<p><code>&lt;Bokeh Notebook handle for <strong>In[14]</strong>&gt;</code></p>"
      ],
      "text/plain": [
       "<bokeh.io._CommsHandle at 0x7f30501842d0>"
      ]
     },
     "execution_count": 14,
     "metadata": {},
     "output_type": "execute_result"
    }
   ],
   "source": [
    "show(p)"
   ]
  }
 ],
 "metadata": {
  "kernelspec": {
   "display_name": "Python 2",
   "language": "python",
   "name": "python2"
  },
  "language_info": {
   "codemirror_mode": {
    "name": "ipython",
    "version": 2
   },
   "file_extension": ".py",
   "mimetype": "text/x-python",
   "name": "python",
   "nbconvert_exporter": "python",
   "pygments_lexer": "ipython2",
   "version": "2.7.6"
  }
 },
 "nbformat": 4,
 "nbformat_minor": 0
}
