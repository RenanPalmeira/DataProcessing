{
 "cells": [
  {
   "cell_type": "code",
   "execution_count": 1,
   "metadata": {
    "collapsed": false
   },
   "outputs": [],
   "source": [
    "\"\"\"\n",
    "Reference in http://goo.gl/wjHNtm\n",
    "Dump file MongoDB in http://pastebin.com/y3dALXYs\n",
    "For import dump file https://goo.gl/ae0xVB\n",
    "\"\"\"\n",
    "from __future__ import with_statement\n",
    "\n",
    "import re\n",
    "from pymongo import MongoClient # About MongoDB https://goo.gl/PvVRcd\n",
    "from processor import TwitterProcessing"
   ]
  },
  {
   "cell_type": "code",
   "execution_count": 2,
   "metadata": {
    "collapsed": false
   },
   "outputs": [],
   "source": [
    "# Default in localhost \n",
    "client = MongoClient() \n",
    "db = client.twitter"
   ]
  },
  {
   "cell_type": "code",
   "execution_count": 3,
   "metadata": {
    "collapsed": true
   },
   "outputs": [],
   "source": [
    "# For balance, list length and this tag/version is 90\n",
    "positivewords = [item['word'] for item in db.positivewords.find()]\n",
    "negativewords = [item['word'] for item in db.negativewords.find()]\n",
    "neutralwords = [item['word'] for item in db.neutralwords.find()]"
   ]
  },
  {
   "cell_type": "code",
   "execution_count": 4,
   "metadata": {
    "collapsed": false
   },
   "outputs": [],
   "source": [
    "word_features = [\n",
    "    (positivewords, 'positiva'),\n",
    "    (negativewords, 'negativa'),\n",
    "    (neutralwords, 'neutra'),\n",
    "]"
   ]
  },
  {
   "cell_type": "code",
   "execution_count": 5,
   "metadata": {
    "collapsed": true
   },
   "outputs": [],
   "source": [
    "processor = TwitterProcessing(word_features)"
   ]
  },
  {
   "cell_type": "code",
   "execution_count": 6,
   "metadata": {
    "collapsed": false
   },
   "outputs": [
    {
     "data": {
      "text/plain": [
       "'negativa'"
      ]
     },
     "execution_count": 6,
     "metadata": {},
     "output_type": "execute_result"
    }
   ],
   "source": [
    "processor.classify('vc é ódio')"
   ]
  },
  {
   "cell_type": "code",
   "execution_count": 7,
   "metadata": {
    "collapsed": false
   },
   "outputs": [
    {
     "name": "stdout",
     "output_type": "stream",
     "text": [
      "Most Informative Features\n",
      "     contains(segurança) = False          neutra : negati =      1.0 : 1.0\n",
      "    contains(unilateral) = False          positi : negati =      1.0 : 1.0\n",
      "          contains(ódio) = False          neutra : positi =      1.0 : 1.0\n",
      "       contains(votação) = False          positi : negati =      1.0 : 1.0\n",
      "      contains(respeito) = False          neutra : negati =      1.0 : 1.0\n",
      "  contains(estardalhaço) = False          positi : negati =      1.0 : 1.0\n",
      "     contains(tranquilo) = False          neutra : negati =      1.0 : 1.0\n",
      "       contains(traidor) = False          neutra : positi =      1.0 : 1.0\n",
      "       contains(combate) = False          neutra : negati =      1.0 : 1.0\n",
      "      contains(oposição) = False          neutra : positi =      1.0 : 1.0\n",
      "       contains(deboche) = False          neutra : positi =      1.0 : 1.0\n",
      "         contains(sobre) = False          neutra : positi =      1.0 : 1.0\n",
      "          contains(roda) = False          positi : negati =      1.0 : 1.0\n",
      "   contains(coordenador) = False          positi : negati =      1.0 : 1.0\n",
      "      contains(planilha) = False          positi : negati =      1.0 : 1.0\n",
      "       contains(justiça) = False          neutra : negati =      1.0 : 1.0\n",
      "       contains(icônico) = False          neutra : negati =      1.0 : 1.0\n",
      "        contains(mortal) = False          neutra : negati =      1.0 : 1.0\n",
      "   contains(proximidade) = False          positi : negati =      1.0 : 1.0\n",
      "       contains(querido) = False          neutra : negati =      1.0 : 1.0\n",
      "    contains(vergonhoso) = False          neutra : positi =      1.0 : 1.0\n",
      "        contains(triste) = False          neutra : positi =      1.0 : 1.0\n",
      "     contains(crueldade) = False          neutra : positi =      1.0 : 1.0\n",
      "        contains(guerra) = False          neutra : positi =      1.0 : 1.0\n",
      "          contains(anti) = False          neutra : positi =      1.0 : 1.0\n",
      "       contains(divisor) = False          positi : negati =      1.0 : 1.0\n",
      "        contains(social) = False          positi : negati =      1.0 : 1.0\n",
      "         contains(moral) = False          positi : negati =      1.0 : 1.0\n",
      "       contains(honesto) = False          neutra : negati =      1.0 : 1.0\n",
      "contains(responsabilidade) = False          neutra : negati =      1.0 : 1.0\n",
      "    contains(capacidade) = False          positi : negati =      1.0 : 1.0\n",
      "       contains(nervoso) = False          neutra : positi =      1.0 : 1.0\n",
      "         contains(vazio) = False          neutra : positi =      1.0 : 1.0\n",
      "         contains(podre) = False          positi : negati =      1.0 : 1.0\n",
      "     contains(distância) = False          positi : negati =      1.0 : 1.0\n",
      "       contains(gostoso) = False          neutra : negati =      1.0 : 1.0\n",
      "      contains(salvação) = False          neutra : negati =      1.0 : 1.0\n",
      "   contains(inteligente) = False          neutra : negati =      1.0 : 1.0\n",
      "          contains(pira) = False          neutra : positi =      1.0 : 1.0\n",
      "          contains(foco) = False          positi : negati =      1.0 : 1.0\n",
      "      contains(ganhador) = False          neutra : negati =      1.0 : 1.0\n",
      "         contains(lindo) = False          neutra : negati =      1.0 : 1.0\n",
      "         contains(força) = False          positi : negati =      1.0 : 1.0\n",
      "           contains(paz) = False          neutra : negati =      1.0 : 1.0\n",
      "   contains(repercussão) = False          positi : negati =      1.0 : 1.0\n",
      "        contains(terror) = False          neutra : positi =      1.0 : 1.0\n",
      "       contains(coragem) = False          neutra : negati =      1.0 : 1.0\n",
      "         contains(cargo) = False          positi : negati =      1.0 : 1.0\n",
      "        contains(diário) = False          positi : negati =      1.0 : 1.0\n",
      "    contains(reprovável) = False          neutra : positi =      1.0 : 1.0\n",
      "      contains(salvador) = False          neutra : negati =      1.0 : 1.0\n",
      "       contains(traição) = False          neutra : positi =      1.0 : 1.0\n",
      "      contains(valoroso) = False          neutra : negati =      1.0 : 1.0\n",
      "     contains(sociedade) = False          positi : negati =      1.0 : 1.0\n",
      "    contains(comunidade) = False          positi : negati =      1.0 : 1.0\n",
      "       contains(ingênuo) = False          neutra : negati =      1.0 : 1.0\n",
      "     contains(aprovação) = False          neutra : negati =      1.0 : 1.0\n",
      "     contains(liberdade) = False          neutra : negati =      1.0 : 1.0\n",
      "      contains(ofensiva) = False          neutra : positi =      1.0 : 1.0\n",
      "         contains(forte) = False          neutra : negati =      1.0 : 1.0\n",
      "       contains(euforia) = False          neutra : negati =      1.0 : 1.0\n",
      "       contains(decisão) = False          positi : negati =      1.0 : 1.0\n",
      "         contains(crime) = False          neutra : positi =      1.0 : 1.0\n",
      "  contains(criatividade) = False          neutra : negati =      1.0 : 1.0\n",
      "          contains(medo) = False          neutra : positi =      1.0 : 1.0\n",
      "        contains(rainha) = False          neutra : negati =      1.0 : 1.0\n",
      "     contains(palhaçada) = False          neutra : positi =      1.0 : 1.0\n",
      "         contains(burro) = False          neutra : positi =      1.0 : 1.0\n",
      "           contains(pos) = False          neutra : positi =      1.0 : 1.0\n",
      "          contains(saco) = False          neutra : positi =      1.0 : 1.0\n",
      "      contains(profundo) = False          positi : negati =      1.0 : 1.0\n",
      "   contains(maravilhoso) = False          neutra : negati =      1.0 : 1.0\n",
      "        contains(ladrão) = False          neutra : positi =      1.0 : 1.0\n",
      "         contains(total) = False          positi : negati =      1.0 : 1.0\n",
      "         contains(raiva) = False          neutra : positi =      1.0 : 1.0\n",
      "         contains(santo) = False          neutra : negati =      1.0 : 1.0\n",
      "        contains(rápido) = False          neutra : negati =      1.0 : 1.0\n",
      "          contains(peça) = False          positi : negati =      1.0 : 1.0\n",
      "       contains(militar) = False          neutra : positi =      1.0 : 1.0\n",
      "         contains(corte) = False          positi : negati =      1.0 : 1.0\n",
      "        contains(pirata) = False          neutra : positi =      1.0 : 1.0\n",
      "         contains(farsa) = False          neutra : positi =      1.0 : 1.0\n",
      "      contains(ditadura) = False          neutra : positi =      1.0 : 1.0\n",
      "       contains(absurdo) = False          neutra : positi =      1.0 : 1.0\n",
      "     contains(discussão) = False          positi : negati =      1.0 : 1.0\n",
      "       contains(bobagem) = False          positi : negati =      1.0 : 1.0\n",
      "     contains(esperança) = False          neutra : negati =      1.0 : 1.0\n",
      "        contains(dúvida) = False          positi : negati =      1.0 : 1.0\n",
      "           contains(uso) = False          positi : negati =      1.0 : 1.0\n",
      "    contains(democracia) = False          neutra : negati =      1.0 : 1.0\n",
      "        contains(melhor) = False          neutra : negati =      1.0 : 1.0\n",
      "      contains(vergonha) = False          neutra : positi =      1.0 : 1.0\n",
      "          contains(além) = False          positi : negati =      1.0 : 1.0\n",
      "        contains(prazer) = False          neutra : negati =      1.0 : 1.0\n",
      "          contains(após) = False          neutra : positi =      1.0 : 1.0\n",
      "contains(posicionamento) = False          positi : negati =      1.0 : 1.0\n",
      "   contains(estelionato) = False          neutra : positi =      1.0 : 1.0\n",
      "        contains(inútil) = False          neutra : positi =      1.0 : 1.0\n",
      "         contains(bosta) = False          neutra : positi =      1.0 : 1.0\n",
      "       contains(marmota) = False          positi : negati =      1.0 : 1.0\n",
      "       contains(disputa) = False          neutra : positi =      1.0 : 1.0\n",
      " contains(irresponsável) = False          neutra : positi =      1.0 : 1.0\n",
      "        contains(ataque) = False          neutra : positi =      1.0 : 1.0\n",
      "      contains(problema) = False          neutra : positi =      1.0 : 1.0\n",
      "         contains(plano) = False          positi : negati =      1.0 : 1.0\n",
      "      contains(positivo) = False          neutra : negati =      1.0 : 1.0\n",
      "   contains(resistência) = False          neutra : negati =      1.0 : 1.0\n",
      "         contains(calmo) = False          neutra : negati =      1.0 : 1.0\n",
      "        contains(genial) = False          neutra : negati =      1.0 : 1.0\n",
      "      contains(silêncio) = False          neutra : positi =      1.0 : 1.0\n",
      "      contains(presídio) = False          neutra : positi =      1.0 : 1.0\n",
      "        contains(contra) = False          neutra : positi =      1.0 : 1.0\n",
      "           contains(sim) = False          neutra : negati =      1.0 : 1.0\n",
      "     contains(favorável) = False          neutra : negati =      1.0 : 1.0\n",
      "        contains(ditado) = False          positi : negati =      1.0 : 1.0\n",
      "         contains(saúde) = False          neutra : negati =      1.0 : 1.0\n",
      "         contains(lento) = False          neutra : positi =      1.0 : 1.0\n",
      "       contains(bizarro) = False          neutra : positi =      1.0 : 1.0\n",
      "       contains(mudança) = False          neutra : negati =      1.0 : 1.0\n",
      "       contains(negócio) = False          positi : negati =      1.0 : 1.0\n",
      "       contains(solução) = False          neutra : negati =      1.0 : 1.0\n",
      "contains(impressionante) = False          neutra : negati =      1.0 : 1.0\n",
      "         contains(ordem) = False          positi : negati =      1.0 : 1.0\n",
      "       contains(canalha) = False          neutra : positi =      1.0 : 1.0\n",
      "   contains(intelectual) = False          neutra : negati =      1.0 : 1.0\n",
      "     contains(bate-boca) = False          neutra : positi =      1.0 : 1.0\n",
      "           contains(bom) = False          neutra : negati =      1.0 : 1.0\n",
      " contains(inacreditável) = False          neutra : negati =      1.0 : 1.0\n",
      "    contains(fundamento) = False          positi : negati =      1.0 : 1.0\n",
      "     contains(criminoso) = False          neutra : positi =      1.0 : 1.0\n",
      "  contains(inteligência) = False          neutra : negati =      1.0 : 1.0\n",
      "       contains(curioso) = False          neutra : negati =      1.0 : 1.0\n",
      "          contains(nojo) = False          neutra : positi =      1.0 : 1.0\n",
      "    contains(suficiente) = False          positi : negati =      1.0 : 1.0\n",
      "      contains(vencedor) = False          neutra : negati =      1.0 : 1.0\n",
      "    contains(ignorância) = False          neutra : positi =      1.0 : 1.0\n",
      "     contains(artimanha) = False          neutra : positi =      1.0 : 1.0\n",
      "           contains(vez) = False          positi : negati =      1.0 : 1.0\n",
      "     contains(diferente) = False          positi : negati =      1.0 : 1.0\n",
      "         contains(prova) = False          positi : negati =      1.0 : 1.0\n",
      "      contains(político) = False          positi : negati =      1.0 : 1.0\n"
     ]
    }
   ],
   "source": [
    "processor.show_features()"
   ]
  }
 ],
 "metadata": {
  "celltoolbar": "Raw Cell Format",
  "kernelspec": {
   "display_name": "Python 2",
   "language": "python",
   "name": "python2"
  },
  "language_info": {
   "codemirror_mode": {
    "name": "ipython",
    "version": 2
   },
   "file_extension": ".py",
   "mimetype": "text/x-python",
   "name": "python",
   "nbconvert_exporter": "python",
   "pygments_lexer": "ipython2",
   "version": "2.7.6"
  }
 },
 "nbformat": 4,
 "nbformat_minor": 0
}
